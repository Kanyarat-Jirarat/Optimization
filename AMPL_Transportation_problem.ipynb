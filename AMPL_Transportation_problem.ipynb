{
  "cells": [
    {
      "cell_type": "markdown",
      "metadata": {
        "id": "view-in-github",
        "colab_type": "text"
      },
      "source": [
        "<a href=\"https://colab.research.google.com/github/Kanyarat-Jirarat/Optimization/blob/main/AMPL_Transportation_problem.ipynb\" target=\"_parent\"><img src=\"https://colab.research.google.com/assets/colab-badge.svg\" alt=\"Open In Colab\"/></a>"
      ]
    },
    {
      "cell_type": "code",
      "execution_count": 1,
      "metadata": {
        "colab": {
          "base_uri": "https://localhost:8080/",
          "height": 101,
          "referenced_widgets": [
            "fcecb29fef904368bbc84d6cad1ae1d9",
            "34910abe4eee4eeba2389c424bdb1e5e",
            "2c7730a2d34640d987a8d2ee3a69db6a",
            "dffcc765e14248cfa6ac1ece2c3a462d",
            "e793e1512ccf42bba2d5f0170c07ffbb",
            "098f5ccecf7c462b8e9073c43e98d64a",
            "28d7f07d89614dc795ea12a3015cb1c6",
            "d6ae42c7990b43b68c78aea48b59751d",
            "e011c64d826e425fb044f38a532f9672",
            "0ee186fe286c4375aeb632e527fbb864",
            "03138065c9c24aed8dfdf39252fda033",
            "7a5a2fcbe9f840b08b353dd849e5b120",
            "4e6d6798a5604e4c9340ed2a509163d2"
          ]
        },
        "id": "3xDtAc-Fa6An",
        "outputId": "82527ab7-e39a-494f-f35d-aa9050bcf1bf"
      },
      "outputs": [
        {
          "output_type": "stream",
          "name": "stdout",
          "text": [
            "\u001b[2K   \u001b[90m━━━━━━━━━━━━━━━━━━━━━━━━━━━━━━━━━━━━━━━━\u001b[0m \u001b[32m5.6/5.6 MB\u001b[0m \u001b[31m16.4 MB/s\u001b[0m eta \u001b[36m0:00:00\u001b[0m\n",
            "\u001b[?25h"
          ]
        },
        {
          "output_type": "display_data",
          "data": {
            "text/plain": [
              "VBox(children=(Output(), HBox(children=(Text(value='', description='License UUID:', style=DescriptionStyle(des…"
            ],
            "application/vnd.jupyter.widget-view+json": {
              "version_major": 2,
              "version_minor": 0,
              "model_id": "fcecb29fef904368bbc84d6cad1ae1d9"
            }
          },
          "metadata": {}
        }
      ],
      "source": [
        "# The only 3 lines you need to install and use AMPL with any solver on Colab\n",
        "%pip install -q amplpy\n",
        "from amplpy import AMPL, ampl_notebook\n",
        "\n",
        "ampl = ampl_notebook(\n",
        "    modules=[\"highs\", \"gurobi\"],  # modules to install\n",
        "    license_uuid=\"your-license-uuid\",  # license to use\n",
        ")  # instantiate AMPL object and register magics"
      ]
    },
    {
      "cell_type": "code",
      "execution_count": 2,
      "metadata": {
        "id": "4oBfIvMzbnvk"
      },
      "outputs": [],
      "source": [
        "%%ampl_eval\n",
        "reset;\n",
        "set ITEMS;\n",
        "\n",
        "param weight{ITEMS};\n",
        "param value{ITEMS};\n",
        "param max_weight;\n",
        "\n",
        "var x{ITEMS} binary;\n",
        "\n",
        "maximize total_value: sum{i in ITEMS} value[i] * x[i];\n",
        "\n",
        "subject to weight_constraint: sum{i in ITEMS} weight[i] * x[i] <= max_weight;"
      ]
    },
    {
      "cell_type": "code",
      "execution_count": 3,
      "metadata": {
        "colab": {
          "base_uri": "https://localhost:8080/",
          "height": 415
        },
        "id": "plPCDhdhjivI",
        "outputId": "58137b3c-7489-49e1-886e-08a0beffad77"
      },
      "outputs": [
        {
          "output_type": "stream",
          "name": "stdout",
          "text": [
            "HiGHS 1.7.1: \b\b\b\b\b\b\b\b\b\b\b\b\bHiGHS 1.7.1: optimal solution; objective 1126\n",
            "3 simplex iterations\n",
            "1 branching nodes\n"
          ]
        },
        {
          "output_type": "execute_result",
          "data": {
            "text/plain": [
              "    x\n",
              "1   0\n",
              "2   1\n",
              "3   1\n",
              "4   1\n",
              "5   0\n",
              "6   0\n",
              "7   1\n",
              "8   1\n",
              "9   1\n",
              "10  1"
            ],
            "text/html": [
              "\n",
              "  <div id=\"df-019032be-441a-402e-aaa6-fc86a3b38878\" class=\"colab-df-container\">\n",
              "    <div>\n",
              "<style scoped>\n",
              "    .dataframe tbody tr th:only-of-type {\n",
              "        vertical-align: middle;\n",
              "    }\n",
              "\n",
              "    .dataframe tbody tr th {\n",
              "        vertical-align: top;\n",
              "    }\n",
              "\n",
              "    .dataframe thead th {\n",
              "        text-align: right;\n",
              "    }\n",
              "</style>\n",
              "<table border=\"1\" class=\"dataframe\">\n",
              "  <thead>\n",
              "    <tr style=\"text-align: right;\">\n",
              "      <th></th>\n",
              "      <th>x</th>\n",
              "    </tr>\n",
              "  </thead>\n",
              "  <tbody>\n",
              "    <tr>\n",
              "      <th>1</th>\n",
              "      <td>0</td>\n",
              "    </tr>\n",
              "    <tr>\n",
              "      <th>2</th>\n",
              "      <td>1</td>\n",
              "    </tr>\n",
              "    <tr>\n",
              "      <th>3</th>\n",
              "      <td>1</td>\n",
              "    </tr>\n",
              "    <tr>\n",
              "      <th>4</th>\n",
              "      <td>1</td>\n",
              "    </tr>\n",
              "    <tr>\n",
              "      <th>5</th>\n",
              "      <td>0</td>\n",
              "    </tr>\n",
              "    <tr>\n",
              "      <th>6</th>\n",
              "      <td>0</td>\n",
              "    </tr>\n",
              "    <tr>\n",
              "      <th>7</th>\n",
              "      <td>1</td>\n",
              "    </tr>\n",
              "    <tr>\n",
              "      <th>8</th>\n",
              "      <td>1</td>\n",
              "    </tr>\n",
              "    <tr>\n",
              "      <th>9</th>\n",
              "      <td>1</td>\n",
              "    </tr>\n",
              "    <tr>\n",
              "      <th>10</th>\n",
              "      <td>1</td>\n",
              "    </tr>\n",
              "  </tbody>\n",
              "</table>\n",
              "</div>\n",
              "    <div class=\"colab-df-buttons\">\n",
              "\n",
              "  <div class=\"colab-df-container\">\n",
              "    <button class=\"colab-df-convert\" onclick=\"convertToInteractive('df-019032be-441a-402e-aaa6-fc86a3b38878')\"\n",
              "            title=\"Convert this dataframe to an interactive table.\"\n",
              "            style=\"display:none;\">\n",
              "\n",
              "  <svg xmlns=\"http://www.w3.org/2000/svg\" height=\"24px\" viewBox=\"0 -960 960 960\">\n",
              "    <path d=\"M120-120v-720h720v720H120Zm60-500h600v-160H180v160Zm220 220h160v-160H400v160Zm0 220h160v-160H400v160ZM180-400h160v-160H180v160Zm440 0h160v-160H620v160ZM180-180h160v-160H180v160Zm440 0h160v-160H620v160Z\"/>\n",
              "  </svg>\n",
              "    </button>\n",
              "\n",
              "  <style>\n",
              "    .colab-df-container {\n",
              "      display:flex;\n",
              "      gap: 12px;\n",
              "    }\n",
              "\n",
              "    .colab-df-convert {\n",
              "      background-color: #E8F0FE;\n",
              "      border: none;\n",
              "      border-radius: 50%;\n",
              "      cursor: pointer;\n",
              "      display: none;\n",
              "      fill: #1967D2;\n",
              "      height: 32px;\n",
              "      padding: 0 0 0 0;\n",
              "      width: 32px;\n",
              "    }\n",
              "\n",
              "    .colab-df-convert:hover {\n",
              "      background-color: #E2EBFA;\n",
              "      box-shadow: 0px 1px 2px rgba(60, 64, 67, 0.3), 0px 1px 3px 1px rgba(60, 64, 67, 0.15);\n",
              "      fill: #174EA6;\n",
              "    }\n",
              "\n",
              "    .colab-df-buttons div {\n",
              "      margin-bottom: 4px;\n",
              "    }\n",
              "\n",
              "    [theme=dark] .colab-df-convert {\n",
              "      background-color: #3B4455;\n",
              "      fill: #D2E3FC;\n",
              "    }\n",
              "\n",
              "    [theme=dark] .colab-df-convert:hover {\n",
              "      background-color: #434B5C;\n",
              "      box-shadow: 0px 1px 3px 1px rgba(0, 0, 0, 0.15);\n",
              "      filter: drop-shadow(0px 1px 2px rgba(0, 0, 0, 0.3));\n",
              "      fill: #FFFFFF;\n",
              "    }\n",
              "  </style>\n",
              "\n",
              "    <script>\n",
              "      const buttonEl =\n",
              "        document.querySelector('#df-019032be-441a-402e-aaa6-fc86a3b38878 button.colab-df-convert');\n",
              "      buttonEl.style.display =\n",
              "        google.colab.kernel.accessAllowed ? 'block' : 'none';\n",
              "\n",
              "      async function convertToInteractive(key) {\n",
              "        const element = document.querySelector('#df-019032be-441a-402e-aaa6-fc86a3b38878');\n",
              "        const dataTable =\n",
              "          await google.colab.kernel.invokeFunction('convertToInteractive',\n",
              "                                                    [key], {});\n",
              "        if (!dataTable) return;\n",
              "\n",
              "        const docLinkHtml = 'Like what you see? Visit the ' +\n",
              "          '<a target=\"_blank\" href=https://colab.research.google.com/notebooks/data_table.ipynb>data table notebook</a>'\n",
              "          + ' to learn more about interactive tables.';\n",
              "        element.innerHTML = '';\n",
              "        dataTable['output_type'] = 'display_data';\n",
              "        await google.colab.output.renderOutput(dataTable, element);\n",
              "        const docLink = document.createElement('div');\n",
              "        docLink.innerHTML = docLinkHtml;\n",
              "        element.appendChild(docLink);\n",
              "      }\n",
              "    </script>\n",
              "  </div>\n",
              "\n",
              "\n",
              "<div id=\"df-2550bf8c-01bb-42fa-b3be-ab976495de7f\">\n",
              "  <button class=\"colab-df-quickchart\" onclick=\"quickchart('df-2550bf8c-01bb-42fa-b3be-ab976495de7f')\"\n",
              "            title=\"Suggest charts\"\n",
              "            style=\"display:none;\">\n",
              "\n",
              "<svg xmlns=\"http://www.w3.org/2000/svg\" height=\"24px\"viewBox=\"0 0 24 24\"\n",
              "     width=\"24px\">\n",
              "    <g>\n",
              "        <path d=\"M19 3H5c-1.1 0-2 .9-2 2v14c0 1.1.9 2 2 2h14c1.1 0 2-.9 2-2V5c0-1.1-.9-2-2-2zM9 17H7v-7h2v7zm4 0h-2V7h2v10zm4 0h-2v-4h2v4z\"/>\n",
              "    </g>\n",
              "</svg>\n",
              "  </button>\n",
              "\n",
              "<style>\n",
              "  .colab-df-quickchart {\n",
              "      --bg-color: #E8F0FE;\n",
              "      --fill-color: #1967D2;\n",
              "      --hover-bg-color: #E2EBFA;\n",
              "      --hover-fill-color: #174EA6;\n",
              "      --disabled-fill-color: #AAA;\n",
              "      --disabled-bg-color: #DDD;\n",
              "  }\n",
              "\n",
              "  [theme=dark] .colab-df-quickchart {\n",
              "      --bg-color: #3B4455;\n",
              "      --fill-color: #D2E3FC;\n",
              "      --hover-bg-color: #434B5C;\n",
              "      --hover-fill-color: #FFFFFF;\n",
              "      --disabled-bg-color: #3B4455;\n",
              "      --disabled-fill-color: #666;\n",
              "  }\n",
              "\n",
              "  .colab-df-quickchart {\n",
              "    background-color: var(--bg-color);\n",
              "    border: none;\n",
              "    border-radius: 50%;\n",
              "    cursor: pointer;\n",
              "    display: none;\n",
              "    fill: var(--fill-color);\n",
              "    height: 32px;\n",
              "    padding: 0;\n",
              "    width: 32px;\n",
              "  }\n",
              "\n",
              "  .colab-df-quickchart:hover {\n",
              "    background-color: var(--hover-bg-color);\n",
              "    box-shadow: 0 1px 2px rgba(60, 64, 67, 0.3), 0 1px 3px 1px rgba(60, 64, 67, 0.15);\n",
              "    fill: var(--button-hover-fill-color);\n",
              "  }\n",
              "\n",
              "  .colab-df-quickchart-complete:disabled,\n",
              "  .colab-df-quickchart-complete:disabled:hover {\n",
              "    background-color: var(--disabled-bg-color);\n",
              "    fill: var(--disabled-fill-color);\n",
              "    box-shadow: none;\n",
              "  }\n",
              "\n",
              "  .colab-df-spinner {\n",
              "    border: 2px solid var(--fill-color);\n",
              "    border-color: transparent;\n",
              "    border-bottom-color: var(--fill-color);\n",
              "    animation:\n",
              "      spin 1s steps(1) infinite;\n",
              "  }\n",
              "\n",
              "  @keyframes spin {\n",
              "    0% {\n",
              "      border-color: transparent;\n",
              "      border-bottom-color: var(--fill-color);\n",
              "      border-left-color: var(--fill-color);\n",
              "    }\n",
              "    20% {\n",
              "      border-color: transparent;\n",
              "      border-left-color: var(--fill-color);\n",
              "      border-top-color: var(--fill-color);\n",
              "    }\n",
              "    30% {\n",
              "      border-color: transparent;\n",
              "      border-left-color: var(--fill-color);\n",
              "      border-top-color: var(--fill-color);\n",
              "      border-right-color: var(--fill-color);\n",
              "    }\n",
              "    40% {\n",
              "      border-color: transparent;\n",
              "      border-right-color: var(--fill-color);\n",
              "      border-top-color: var(--fill-color);\n",
              "    }\n",
              "    60% {\n",
              "      border-color: transparent;\n",
              "      border-right-color: var(--fill-color);\n",
              "    }\n",
              "    80% {\n",
              "      border-color: transparent;\n",
              "      border-right-color: var(--fill-color);\n",
              "      border-bottom-color: var(--fill-color);\n",
              "    }\n",
              "    90% {\n",
              "      border-color: transparent;\n",
              "      border-bottom-color: var(--fill-color);\n",
              "    }\n",
              "  }\n",
              "</style>\n",
              "\n",
              "  <script>\n",
              "    async function quickchart(key) {\n",
              "      const quickchartButtonEl =\n",
              "        document.querySelector('#' + key + ' button');\n",
              "      quickchartButtonEl.disabled = true;  // To prevent multiple clicks.\n",
              "      quickchartButtonEl.classList.add('colab-df-spinner');\n",
              "      try {\n",
              "        const charts = await google.colab.kernel.invokeFunction(\n",
              "            'suggestCharts', [key], {});\n",
              "      } catch (error) {\n",
              "        console.error('Error during call to suggestCharts:', error);\n",
              "      }\n",
              "      quickchartButtonEl.classList.remove('colab-df-spinner');\n",
              "      quickchartButtonEl.classList.add('colab-df-quickchart-complete');\n",
              "    }\n",
              "    (() => {\n",
              "      let quickchartButtonEl =\n",
              "        document.querySelector('#df-2550bf8c-01bb-42fa-b3be-ab976495de7f button');\n",
              "      quickchartButtonEl.style.display =\n",
              "        google.colab.kernel.accessAllowed ? 'block' : 'none';\n",
              "    })();\n",
              "  </script>\n",
              "</div>\n",
              "\n",
              "    </div>\n",
              "  </div>\n"
            ],
            "application/vnd.google.colaboratory.intrinsic+json": {
              "type": "dataframe",
              "summary": "{\n  \"name\": \"ampl\",\n  \"rows\": 10,\n  \"fields\": [\n    {\n      \"column\": \"x\",\n      \"properties\": {\n        \"dtype\": \"number\",\n        \"std\": 0,\n        \"min\": 0,\n        \"max\": 1,\n        \"num_unique_values\": 2,\n        \"samples\": [\n          1,\n          0\n        ],\n        \"semantic_type\": \"\",\n        \"description\": \"\"\n      }\n    }\n  ]\n}"
            }
          },
          "metadata": {},
          "execution_count": 3
        }
      ],
      "source": [
        "from random import randint\n",
        "\n",
        "items = list(range(1, 10 + 1))\n",
        "ampl.set[\"ITEMS\"] = items\n",
        "ampl.param[\"weight\"] = {i: randint(10, 20) for i in items}\n",
        "ampl.param[\"value\"] = {i: randint(100, 200) for i in items}\n",
        "ampl.param[\"max_weight\"] = 100\n",
        "ampl.option[\"solver\"] = \"highs\"\n",
        "ampl.solve()\n",
        "ampl.get_data(\"x\").to_pandas()"
      ]
    },
    {
      "cell_type": "code",
      "source": [
        "%%ampl_eval\n",
        "reset;\n",
        "var pricePeak >= 0;\n",
        "var priceOff >= 0;\n",
        "var cap >= 0;\n",
        "var demandPeak = 2.253 - 0.013*pricePeak + 0.003*priceOff;\n",
        "var demandOff = 1.142 - 0.015*priceOff + 0.005*pricePeak;\n",
        "maximize profit: pricePeak*demandPeak + priceOff*demandOff - 75*cap;\n",
        "s.t. conPeak: demandPeak <= cap;\n",
        "s.t. conOff: demandOff <= cap;\n",
        "let pricePeak := 80;\n",
        "let priceOff := 80;\n",
        "solve;\n",
        "display pricePeak, priceOff, cap;"
      ],
      "metadata": {
        "colab": {
          "base_uri": "https://localhost:8080/"
        },
        "id": "VyZ_XXkadnRY",
        "outputId": "9454dea7-ac90-41aa-f26d-35d3fd64b150"
      },
      "execution_count": 4,
      "outputs": [
        {
          "output_type": "stream",
          "name": "stdout",
          "text": [
            "HiGHS 1.7.1: \b\b\b\b\b\b\b\b\b\b\b\b\bHiGHS 1.7.1: optimal solution; objective 95.80355802\n",
            "0 simplex iterations\n",
            "0 barrier iterations\n",
            "pricePeak = 137.572\n",
            "priceOff = 75.8495\n",
            "cap = 0.692116\n",
            "\n"
          ]
        }
      ]
    },
    {
      "cell_type": "markdown",
      "source": [
        "pricePeak - priceOff <= 40"
      ],
      "metadata": {
        "id": "aS1YwG6giX4q"
      }
    },
    {
      "cell_type": "code",
      "source": [
        "%%ampl_eval\n",
        "reset;\n",
        "var pricePeak >= 0;\n",
        "var priceOff >= 0;\n",
        "var cap >= 0;\n",
        "var demandPeak = 2.253 - 0.013*pricePeak + 0.003*priceOff;\n",
        "var demandOff = 1.142 - 0.015*priceOff + 0.005*pricePeak;\n",
        "maximize profit: pricePeak*demandPeak + priceOff*demandOff - 75*cap;\n",
        "s.t. conPeak: demandPeak <= cap;\n",
        "s.t. conOff: demandOff <= cap;\n",
        "s.t. condiff: (pricePeak - priceOff) <= 40;  # Changed to <=\n",
        "\n",
        "let pricePeak := 80;\n",
        "let priceOff := 80;\n",
        "solve;\n",
        "display pricePeak, priceOff, cap;"
      ],
      "metadata": {
        "colab": {
          "base_uri": "https://localhost:8080/"
        },
        "id": "whFjC11yfz7B",
        "outputId": "ea920911-74f2-49b0-84e4-ac9568d7730f"
      },
      "execution_count": 12,
      "outputs": [
        {
          "output_type": "stream",
          "name": "stdout",
          "text": [
            "HiGHS 1.7.1: \b\b\b\b\b\b\b\b\b\b\b\b\bHiGHS 1.7.1: optimal solution; objective 85.97781249\n",
            "0 simplex iterations\n",
            "0 barrier iterations\n",
            "pricePeak = 125.624\n",
            "priceOff = 85.6245\n",
            "cap = 0.876755\n",
            "\n"
          ]
        }
      ]
    },
    {
      "cell_type": "markdown",
      "source": [
        "กำหนด cap = *0.65*"
      ],
      "metadata": {
        "id": "Ms1UFHAUgNXo"
      }
    },
    {
      "cell_type": "code",
      "source": [
        "%%ampl_eval\n",
        "reset;\n",
        "var pricePeak >= 0;\n",
        "var priceOff >= 0;\n",
        "var cap = 0.65;\n",
        "var demandPeak = 2.253 - 0.013*pricePeak + 0.003*priceOff;\n",
        "var demandOff = 1.142 - 0.015*priceOff + 0.005*pricePeak;\n",
        "maximize profit: pricePeak*demandPeak + priceOff*demandOff - 75*cap;\n",
        "s.t. conPeak: demandPeak <= cap;\n",
        "s.t. conOff: demandOff <= cap;\n",
        "\n",
        "let pricePeak := 80;\n",
        "let priceOff := 80;\n",
        "solve;\n",
        "display pricePeak, priceOff, cap;"
      ],
      "metadata": {
        "colab": {
          "base_uri": "https://localhost:8080/"
        },
        "id": "6EC4rhqGeDFP",
        "outputId": "bc5e379c-5c63-494d-fb08-a47b2e6f658d"
      },
      "execution_count": 5,
      "outputs": [
        {
          "output_type": "stream",
          "name": "stdout",
          "text": [
            "Warning:\n",
            "\tline 5 offset 57\n",
            "\tCaution: cap should be \"param =\" rather than \"var =\".\n",
            "\tcontext:  var cap =  >>> 0.65; <<< \n",
            "HiGHS 1.7.1: \b\b\b\b\b\b\b\b\b\b\b\b\bHiGHS 1.7.1: optimal solution; objective 95.44888889\n",
            "0 simplex iterations\n",
            "0 barrier iterations\n",
            "pricePeak = 141.783\n",
            "priceOff = 80.0611\n",
            "cap = 0.65\n",
            "\n"
          ]
        }
      ]
    },
    {
      "cell_type": "code",
      "source": [
        "%%ampl_eval\n",
        "reset;\n",
        "var pricePeak >= 0;\n",
        "var priceOff >= 0;\n",
        "var cap >= 0;\n",
        "var demandPeak = 2.253 - 0.013*pricePeak + 0.003*priceOff;\n",
        "var demandOff = 1.142 - 0.015*priceOff + 0.005*pricePeak;\n",
        "maximize profit: pricePeak*demandPeak + priceOff*demandOff - 75*cap;\n",
        "s.t. conPeak: demandPeak <= cap;\n",
        "s.t. conOff: demandOff <= cap;\n",
        "s.t. conFix: cap <= 0.65;\n",
        "\n",
        "let pricePeak := 80;\n",
        "let priceOff := 80;\n",
        "solve;\n",
        "display pricePeak, priceOff, cap;"
      ],
      "metadata": {
        "colab": {
          "base_uri": "https://localhost:8080/"
        },
        "id": "LW9gp1NrfBjd",
        "outputId": "1633df45-14bd-4f8e-93a6-9583f5e58d4b"
      },
      "execution_count": 6,
      "outputs": [
        {
          "output_type": "stream",
          "name": "stdout",
          "text": [
            "HiGHS 1.7.1: \b\b\b\b\b\b\b\b\b\b\b\b\bHiGHS 1.7.1: optimal solution; objective 95.44888889\n",
            "0 simplex iterations\n",
            "0 barrier iterations\n",
            "pricePeak = 141.783\n",
            "priceOff = 80.0611\n",
            "cap = 0.65\n",
            "\n"
          ]
        }
      ]
    },
    {
      "cell_type": "markdown",
      "metadata": {
        "id": "mqUbsMqcM7hD"
      },
      "source": [
        "[AMPL Website](https://ampl.com) | [AMPL Colab](https://colab.ampl.com) | [Community Edition]( https://ampl.com/ce/) | [Twitter](https://twitter.com/AMPLopt) | [LinkedIn](https://www.linkedin.com/company/ampl)\n",
        "\n",
        "[![Hits](https://h.ampl.com/https://github.com/ampl/amplcolab/blob/master/template/minimal.ipynb)](https://colab.ampl.com)"
      ]
    },
    {
      "cell_type": "code",
      "source": [
        "%%ampl_eval\n",
        "reset;\n",
        "\n",
        "set ORG;\n",
        "set DEST;\n",
        "\n",
        "param cost{i in ORG, j in DEST};\n",
        "param supply{i in ORG};\n",
        "param demand{j in DEST};\n",
        "\n",
        "var x{i in ORG, j in DEST} >= 0, <= 250;\n",
        "\n",
        "minimize totalCost: sum{i in ORG, j in DEST} cost[i,j]*x[i,j];\n",
        "s.t. conSupply{i in ORG}: sum{j in DEST} x[i,j] <= supply[i];\n",
        "s.t. conDemand{j in DEST}: sum{i in ORG} x[i,j] >= demand[j];\n",
        "\n",
        "data;\n",
        "\n",
        "set ORG := P1 P2 P3;\n",
        "set DEST := R1 R2 R3 R4;\n",
        "\n",
        "param cost : R1 R2 R3 R4 :=\n",
        "P1 131\t218\t266\t120\n",
        "P2 250\t116\t263\t278\n",
        "P3 178\t132\t122\t180;\n",
        "\n",
        "param supply := P1 450 P2 600  P3 500;\n",
        "param demand := R1 450 R2 200  R3 300 R4 300;\n",
        "\n",
        "solve;\n",
        "display x;\n",
        "display totalCost;"
      ],
      "metadata": {
        "colab": {
          "base_uri": "https://localhost:8080/"
        },
        "id": "1APJJFFQkWTa",
        "outputId": "1b66c05e-cf10-4cc4-ec13-4263c66daac2"
      },
      "execution_count": 14,
      "outputs": [
        {
          "output_type": "stream",
          "name": "stdout",
          "text": [
            "HiGHS 1.7.1: \b\b\b\b\b\b\b\b\b\b\b\b\bHiGHS 1.7.1: optimal solution; objective 180150\n",
            "6 simplex iterations\n",
            "0 barrier iterations\n",
            "x :=\n",
            "P1 R1   200\n",
            "P1 R2     0\n",
            "P1 R3     0\n",
            "P1 R4   250\n",
            "P2 R1    50\n",
            "P2 R2   200\n",
            "P2 R3    50\n",
            "P2 R4     0\n",
            "P3 R1   200\n",
            "P3 R2     0\n",
            "P3 R3   250\n",
            "P3 R4    50\n",
            ";\n",
            "\n",
            "totalCost = 180150\n",
            "\n"
          ]
        }
      ]
    },
    {
      "cell_type": "markdown",
      "source": [
        "Q: if route from 1 to 4 is not available"
      ],
      "metadata": {
        "id": "SlnAz545k9Lh"
      }
    },
    {
      "cell_type": "code",
      "source": [
        "%%ampl_eval\n",
        "reset;\n",
        "\n",
        "set ORG;\n",
        "set DEST;\n",
        "\n",
        "param cost{i in ORG, j in DEST};\n",
        "param supply{i in ORG};\n",
        "param demand{j in DEST};\n",
        "\n",
        "var x{i in ORG, j in DEST} >= 0, <= 250;\n",
        "\n",
        "minimize totalCost: sum{i in ORG, j in DEST} cost[i,j]*x[i,j];\n",
        "s.t. conSupply{i in ORG}: sum{j in DEST} x[i,j] <= supply[i];\n",
        "s.t. conDemand{j in DEST}: sum{i in ORG} x[i,j] >= demand[j];\n",
        "\n",
        "s.t. blockRoute: x[\"P1\", \"R4\"] = 0; #1 to 4 is not available\n",
        "\n",
        "data;\n",
        "\n",
        "set ORG := P1 P2 P3;\n",
        "set DEST := R1 R2 R3 R4;\n",
        "\n",
        "param cost : R1 R2 R3 R4 :=\n",
        "P1 131\t218\t266\t120\n",
        "P2 250\t116\t263\t278\n",
        "P3 178\t132\t122\t180;\n",
        "\n",
        "param supply := P1 450 P2 600  P3 500;\n",
        "param demand := R1 450 R2 200  R3 300 R4 300;\n",
        "\n",
        "solve;\n",
        "display x;\n",
        "var x{i in ORG, j in DEST} >= 0, <= 250;display totalCost;"
      ],
      "metadata": {
        "colab": {
          "base_uri": "https://localhost:8080/"
        },
        "id": "Fnm3jd5WkWgw",
        "outputId": "f391c5d8-ed84-4fd8-c553-11a7f10dde56"
      },
      "execution_count": 15,
      "outputs": [
        {
          "output_type": "stream",
          "name": "stdout",
          "text": [
            "HiGHS 1.7.1: \b\b\b\b\b\b\b\b\b\b\b\b\bHiGHS 1.7.1: optimal solution; objective 208500\n",
            "4 simplex iterations\n",
            "0 barrier iterations\n",
            "x :=\n",
            "P1 R1   250\n",
            "P1 R2     0\n",
            "P1 R3     0\n",
            "P1 R4     0\n",
            "P2 R1   200\n",
            "P2 R2   200\n",
            "P2 R3    50\n",
            "P2 R4    50\n",
            "P3 R1     0\n",
            "P3 R2     0\n",
            "P3 R3   250\n",
            "P3 R4   250\n",
            ";\n",
            "\n",
            "totalCost = 208500\n",
            "\n"
          ]
        }
      ]
    },
    {
      "cell_type": "code",
      "source": [
        "# var x{i in ORG, j in DEST} >= 0, <= 250;\n",
        "\n",
        "# s.t. arcLimit{i in ORG, j in DEST}: x[i,j] <= 250;"
      ],
      "metadata": {
        "id": "6Kw6i1xInwYO"
      },
      "execution_count": null,
      "outputs": []
    },
    {
      "cell_type": "markdown",
      "source": [
        "Add arc constraint < 250"
      ],
      "metadata": {
        "id": "9XyLYPnTmmtp"
      }
    },
    {
      "cell_type": "code",
      "source": [
        "%%ampl_eval\n",
        "reset;\n",
        "\n",
        "set ORG;\n",
        "set DEST;\n",
        "\n",
        "param cost{i in ORG, j in DEST};\n",
        "param supply{i in ORG};\n",
        "param demand{j in DEST};\n",
        "\n",
        "var x{i in ORG, j in DEST} >= 0, <= 250;\n",
        "\n",
        "minimize totalCost: sum{i in ORG, j in DEST} cost[i,j]*x[i,j];\n",
        "s.t. conSupply{i in ORG}: sum{j in DEST} x[i,j] <= supply[i];\n",
        "s.t. conDemand{j in DEST}: sum{i in ORG} x[i,j] >= demand[j];\n",
        "\n",
        "data;\n",
        "\n",
        "set ORG := P1 P2 P3;\n",
        "set DEST := R1 R2 R3 R4;\n",
        "\n",
        "param cost : R1 R2 R3 R4 :=\n",
        "P1 131\t218\t266\t120\n",
        "P2 250\t116\t263\t278\n",
        "P3 178\t132\t122\t180;\n",
        "\n",
        "param supply := P1 450 P2 600  P3 500;\n",
        "param demand := R1 450 R2 200  R3 300 R4 300;\n",
        "\n",
        "solve;\n",
        "display x;\n",
        "display totalCost;"
      ],
      "metadata": {
        "id": "7cctOHVJmyHU"
      },
      "execution_count": null,
      "outputs": []
    },
    {
      "cell_type": "code",
      "source": [
        "%%ampl_eval\n",
        "reset;\n",
        "\n",
        "set ORG;\n",
        "set DEST;\n",
        "\n",
        "param cost{i in ORG, j in DEST};\n",
        "param supply{i in ORG};\n",
        "param demand{j in DEST};\n",
        "param arcCap;\n",
        "\n",
        "var x{i in ORG, j in DEST} >= 0, <= 250;\n",
        "\n",
        "minimize totalCost: sum{i in ORG, j in DEST} cost[i,j]*x[i,j];\n",
        "s.t. conSupply{i in ORG}: sum{j in DEST} x[i,j] <= supply[i];\n",
        "s.t. conDemand{j in DEST}: sum{i in ORG} x[i,j] >= demand[j];\n",
        "s.t. arcLimit{i in ORG, j in DEST}: x[i,j] <= arcCap;\n",
        "\n",
        "data;\n",
        "\n",
        "set ORG := P1 P2 P3;\n",
        "set DEST := R1 R2 R3 R4;\n",
        "\n",
        "param arcCap:=250 ;\n",
        "param cost : R1 R2 R3 R4 :=\n",
        "P1 131\t218\t266\t120\n",
        "P2 250\t116\t263\t278\n",
        "P3 178\t132\t122\t180;\n",
        "\n",
        "param supply := P1 450 P2 600  P3 500;\n",
        "param demand := R1 450 R2 200  R3 300 R4 300;\n",
        "\n",
        "solve;\n",
        "display x;\n",
        "display totalCost;"
      ],
      "metadata": {
        "colab": {
          "base_uri": "https://localhost:8080/"
        },
        "id": "YHlw3agKn4E_",
        "outputId": "f793baee-214a-44ec-a97f-0c689f9913b2"
      },
      "execution_count": 18,
      "outputs": [
        {
          "output_type": "stream",
          "name": "stdout",
          "text": [
            "HiGHS 1.7.1: \b\b\b\b\b\b\b\b\b\b\b\b\bHiGHS 1.7.1: optimal solution; objective 180150\n",
            "6 simplex iterations\n",
            "0 barrier iterations\n",
            "x :=\n",
            "P1 R1   200\n",
            "P1 R2     0\n",
            "P1 R3     0\n",
            "P1 R4   250\n",
            "P2 R1    50\n",
            "P2 R2   200\n",
            "P2 R3    50\n",
            "P2 R4     0\n",
            "P3 R1   200\n",
            "P3 R2     0\n",
            "P3 R3   250\n",
            "P3 R4    50\n",
            ";\n",
            "\n",
            "totalCost = 180150\n",
            "\n"
          ]
        }
      ]
    }
  ],
  "metadata": {
    "colab": {
      "provenance": [],
      "include_colab_link": true
    },
    "kernelspec": {
      "display_name": "Python 3",
      "language": "python",
      "name": "python3"
    },
    "language_info": {
      "codemirror_mode": {
        "name": "ipython",
        "version": 3
      },
      "file_extension": ".py",
      "mimetype": "text/x-python",
      "name": "python",
      "nbconvert_exporter": "python",
      "pygments_lexer": "ipython3",
      "version": "3.6.9"
    },
    "vscode": {
      "interpreter": {
        "hash": "ee4198aac13dae9b6fccd443041680d99c2643c4956ef7c80ff6dcc0057cb523"
      }
    },
    "widgets": {
      "application/vnd.jupyter.widget-state+json": {
        "fcecb29fef904368bbc84d6cad1ae1d9": {
          "model_module": "@jupyter-widgets/controls",
          "model_name": "VBoxModel",
          "model_module_version": "1.5.0",
          "state": {
            "_dom_classes": [],
            "_model_module": "@jupyter-widgets/controls",
            "_model_module_version": "1.5.0",
            "_model_name": "VBoxModel",
            "_view_count": null,
            "_view_module": "@jupyter-widgets/controls",
            "_view_module_version": "1.5.0",
            "_view_name": "VBoxView",
            "box_style": "",
            "children": [
              "IPY_MODEL_34910abe4eee4eeba2389c424bdb1e5e",
              "IPY_MODEL_2c7730a2d34640d987a8d2ee3a69db6a",
              "IPY_MODEL_dffcc765e14248cfa6ac1ece2c3a462d",
              "IPY_MODEL_e793e1512ccf42bba2d5f0170c07ffbb"
            ],
            "layout": "IPY_MODEL_098f5ccecf7c462b8e9073c43e98d64a"
          }
        },
        "34910abe4eee4eeba2389c424bdb1e5e": {
          "model_module": "@jupyter-widgets/output",
          "model_name": "OutputModel",
          "model_module_version": "1.0.0",
          "state": {
            "_dom_classes": [],
            "_model_module": "@jupyter-widgets/output",
            "_model_module_version": "1.0.0",
            "_model_name": "OutputModel",
            "_view_count": null,
            "_view_module": "@jupyter-widgets/output",
            "_view_module_version": "1.0.0",
            "_view_name": "OutputView",
            "layout": "IPY_MODEL_03138065c9c24aed8dfdf39252fda033",
            "msg_id": "",
            "outputs": [
              {
                "output_type": "stream",
                "name": "stdout",
                "text": [
                  "AMPL License UUID (you can use free https://ampl.com/ce or https://ampl.com/courses licenses):\n"
                ]
              }
            ]
          }
        },
        "2c7730a2d34640d987a8d2ee3a69db6a": {
          "model_module": "@jupyter-widgets/controls",
          "model_name": "HBoxModel",
          "model_module_version": "1.5.0",
          "state": {
            "_dom_classes": [],
            "_model_module": "@jupyter-widgets/controls",
            "_model_module_version": "1.5.0",
            "_model_name": "HBoxModel",
            "_view_count": null,
            "_view_module": "@jupyter-widgets/controls",
            "_view_module_version": "1.5.0",
            "_view_name": "HBoxView",
            "box_style": "",
            "children": [
              "IPY_MODEL_28d7f07d89614dc795ea12a3015cb1c6"
            ],
            "layout": "IPY_MODEL_d6ae42c7990b43b68c78aea48b59751d"
          }
        },
        "dffcc765e14248cfa6ac1ece2c3a462d": {
          "model_module": "@jupyter-widgets/output",
          "model_name": "OutputModel",
          "model_module_version": "1.0.0",
          "state": {
            "_dom_classes": [],
            "_model_module": "@jupyter-widgets/output",
            "_model_module_version": "1.0.0",
            "_model_name": "OutputModel",
            "_view_count": null,
            "_view_module": "@jupyter-widgets/output",
            "_view_module_version": "1.0.0",
            "_view_name": "OutputView",
            "layout": "IPY_MODEL_7a5a2fcbe9f840b08b353dd849e5b120",
            "msg_id": "",
            "outputs": []
          }
        },
        "e793e1512ccf42bba2d5f0170c07ffbb": {
          "model_module": "@jupyter-widgets/output",
          "model_name": "OutputModel",
          "model_module_version": "1.0.0",
          "state": {
            "_dom_classes": [],
            "_model_module": "@jupyter-widgets/output",
            "_model_module_version": "1.0.0",
            "_model_name": "OutputModel",
            "_view_count": null,
            "_view_module": "@jupyter-widgets/output",
            "_view_module_version": "1.0.0",
            "_view_name": "OutputView",
            "layout": "IPY_MODEL_4e6d6798a5604e4c9340ed2a509163d2",
            "msg_id": "",
            "outputs": [
              {
                "output_type": "stream",
                "name": "stdout",
                "text": [
                  "Licensed to AMPL Community Edition License for the AMPL Model Colaboratory (https://ampl.com/colab).\n"
                ]
              }
            ]
          }
        },
        "098f5ccecf7c462b8e9073c43e98d64a": {
          "model_module": "@jupyter-widgets/base",
          "model_name": "LayoutModel",
          "model_module_version": "1.2.0",
          "state": {
            "_model_module": "@jupyter-widgets/base",
            "_model_module_version": "1.2.0",
            "_model_name": "LayoutModel",
            "_view_count": null,
            "_view_module": "@jupyter-widgets/base",
            "_view_module_version": "1.2.0",
            "_view_name": "LayoutView",
            "align_content": null,
            "align_items": null,
            "align_self": null,
            "border": null,
            "bottom": null,
            "display": null,
            "flex": null,
            "flex_flow": null,
            "grid_area": null,
            "grid_auto_columns": null,
            "grid_auto_flow": null,
            "grid_auto_rows": null,
            "grid_column": null,
            "grid_gap": null,
            "grid_row": null,
            "grid_template_areas": null,
            "grid_template_columns": null,
            "grid_template_rows": null,
            "height": null,
            "justify_content": null,
            "justify_items": null,
            "left": null,
            "margin": null,
            "max_height": null,
            "max_width": null,
            "min_height": null,
            "min_width": null,
            "object_fit": null,
            "object_position": null,
            "order": null,
            "overflow": null,
            "overflow_x": null,
            "overflow_y": null,
            "padding": null,
            "right": null,
            "top": null,
            "visibility": null,
            "width": null
          }
        },
        "28d7f07d89614dc795ea12a3015cb1c6": {
          "model_module": "@jupyter-widgets/controls",
          "model_name": "TextModel",
          "model_module_version": "1.5.0",
          "state": {
            "_dom_classes": [],
            "_model_module": "@jupyter-widgets/controls",
            "_model_module_version": "1.5.0",
            "_model_name": "TextModel",
            "_view_count": null,
            "_view_module": "@jupyter-widgets/controls",
            "_view_module_version": "1.5.0",
            "_view_name": "TextView",
            "continuous_update": true,
            "description": "License UUID:",
            "description_tooltip": null,
            "disabled": false,
            "layout": "IPY_MODEL_e011c64d826e425fb044f38a532f9672",
            "placeholder": "​",
            "style": "IPY_MODEL_0ee186fe286c4375aeb632e527fbb864",
            "value": ""
          }
        },
        "d6ae42c7990b43b68c78aea48b59751d": {
          "model_module": "@jupyter-widgets/base",
          "model_name": "LayoutModel",
          "model_module_version": "1.2.0",
          "state": {
            "_model_module": "@jupyter-widgets/base",
            "_model_module_version": "1.2.0",
            "_model_name": "LayoutModel",
            "_view_count": null,
            "_view_module": "@jupyter-widgets/base",
            "_view_module_version": "1.2.0",
            "_view_name": "LayoutView",
            "align_content": null,
            "align_items": null,
            "align_self": null,
            "border": null,
            "bottom": null,
            "display": null,
            "flex": null,
            "flex_flow": null,
            "grid_area": null,
            "grid_auto_columns": null,
            "grid_auto_flow": null,
            "grid_auto_rows": null,
            "grid_column": null,
            "grid_gap": null,
            "grid_row": null,
            "grid_template_areas": null,
            "grid_template_columns": null,
            "grid_template_rows": null,
            "height": null,
            "justify_content": null,
            "justify_items": null,
            "left": null,
            "margin": null,
            "max_height": null,
            "max_width": null,
            "min_height": null,
            "min_width": null,
            "object_fit": null,
            "object_position": null,
            "order": null,
            "overflow": null,
            "overflow_x": null,
            "overflow_y": null,
            "padding": null,
            "right": null,
            "top": null,
            "visibility": null,
            "width": null
          }
        },
        "e011c64d826e425fb044f38a532f9672": {
          "model_module": "@jupyter-widgets/base",
          "model_name": "LayoutModel",
          "model_module_version": "1.2.0",
          "state": {
            "_model_module": "@jupyter-widgets/base",
            "_model_module_version": "1.2.0",
            "_model_name": "LayoutModel",
            "_view_count": null,
            "_view_module": "@jupyter-widgets/base",
            "_view_module_version": "1.2.0",
            "_view_name": "LayoutView",
            "align_content": null,
            "align_items": null,
            "align_self": null,
            "border": null,
            "bottom": null,
            "display": null,
            "flex": null,
            "flex_flow": null,
            "grid_area": null,
            "grid_auto_columns": null,
            "grid_auto_flow": null,
            "grid_auto_rows": null,
            "grid_column": null,
            "grid_gap": null,
            "grid_row": null,
            "grid_template_areas": null,
            "grid_template_columns": null,
            "grid_template_rows": null,
            "height": null,
            "justify_content": null,
            "justify_items": null,
            "left": null,
            "margin": null,
            "max_height": null,
            "max_width": null,
            "min_height": null,
            "min_width": null,
            "object_fit": null,
            "object_position": null,
            "order": null,
            "overflow": null,
            "overflow_x": null,
            "overflow_y": null,
            "padding": null,
            "right": null,
            "top": null,
            "visibility": null,
            "width": null
          }
        },
        "0ee186fe286c4375aeb632e527fbb864": {
          "model_module": "@jupyter-widgets/controls",
          "model_name": "DescriptionStyleModel",
          "model_module_version": "1.5.0",
          "state": {
            "_model_module": "@jupyter-widgets/controls",
            "_model_module_version": "1.5.0",
            "_model_name": "DescriptionStyleModel",
            "_view_count": null,
            "_view_module": "@jupyter-widgets/base",
            "_view_module_version": "1.2.0",
            "_view_name": "StyleView",
            "description_width": "initial"
          }
        },
        "03138065c9c24aed8dfdf39252fda033": {
          "model_module": "@jupyter-widgets/base",
          "model_name": "LayoutModel",
          "model_module_version": "1.2.0",
          "state": {
            "_model_module": "@jupyter-widgets/base",
            "_model_module_version": "1.2.0",
            "_model_name": "LayoutModel",
            "_view_count": null,
            "_view_module": "@jupyter-widgets/base",
            "_view_module_version": "1.2.0",
            "_view_name": "LayoutView",
            "align_content": null,
            "align_items": null,
            "align_self": null,
            "border": null,
            "bottom": null,
            "display": null,
            "flex": null,
            "flex_flow": null,
            "grid_area": null,
            "grid_auto_columns": null,
            "grid_auto_flow": null,
            "grid_auto_rows": null,
            "grid_column": null,
            "grid_gap": null,
            "grid_row": null,
            "grid_template_areas": null,
            "grid_template_columns": null,
            "grid_template_rows": null,
            "height": null,
            "justify_content": null,
            "justify_items": null,
            "left": null,
            "margin": null,
            "max_height": null,
            "max_width": null,
            "min_height": null,
            "min_width": null,
            "object_fit": null,
            "object_position": null,
            "order": null,
            "overflow": null,
            "overflow_x": null,
            "overflow_y": null,
            "padding": null,
            "right": null,
            "top": null,
            "visibility": null,
            "width": null
          }
        },
        "7a5a2fcbe9f840b08b353dd849e5b120": {
          "model_module": "@jupyter-widgets/base",
          "model_name": "LayoutModel",
          "model_module_version": "1.2.0",
          "state": {
            "_model_module": "@jupyter-widgets/base",
            "_model_module_version": "1.2.0",
            "_model_name": "LayoutModel",
            "_view_count": null,
            "_view_module": "@jupyter-widgets/base",
            "_view_module_version": "1.2.0",
            "_view_name": "LayoutView",
            "align_content": null,
            "align_items": null,
            "align_self": null,
            "border": null,
            "bottom": null,
            "display": null,
            "flex": null,
            "flex_flow": null,
            "grid_area": null,
            "grid_auto_columns": null,
            "grid_auto_flow": null,
            "grid_auto_rows": null,
            "grid_column": null,
            "grid_gap": null,
            "grid_row": null,
            "grid_template_areas": null,
            "grid_template_columns": null,
            "grid_template_rows": null,
            "height": null,
            "justify_content": null,
            "justify_items": null,
            "left": null,
            "margin": null,
            "max_height": null,
            "max_width": null,
            "min_height": null,
            "min_width": null,
            "object_fit": null,
            "object_position": null,
            "order": null,
            "overflow": null,
            "overflow_x": null,
            "overflow_y": null,
            "padding": null,
            "right": null,
            "top": null,
            "visibility": null,
            "width": null
          }
        },
        "4e6d6798a5604e4c9340ed2a509163d2": {
          "model_module": "@jupyter-widgets/base",
          "model_name": "LayoutModel",
          "model_module_version": "1.2.0",
          "state": {
            "_model_module": "@jupyter-widgets/base",
            "_model_module_version": "1.2.0",
            "_model_name": "LayoutModel",
            "_view_count": null,
            "_view_module": "@jupyter-widgets/base",
            "_view_module_version": "1.2.0",
            "_view_name": "LayoutView",
            "align_content": null,
            "align_items": null,
            "align_self": null,
            "border": null,
            "bottom": null,
            "display": null,
            "flex": null,
            "flex_flow": null,
            "grid_area": null,
            "grid_auto_columns": null,
            "grid_auto_flow": null,
            "grid_auto_rows": null,
            "grid_column": null,
            "grid_gap": null,
            "grid_row": null,
            "grid_template_areas": null,
            "grid_template_columns": null,
            "grid_template_rows": null,
            "height": null,
            "justify_content": null,
            "justify_items": null,
            "left": null,
            "margin": null,
            "max_height": null,
            "max_width": null,
            "min_height": null,
            "min_width": null,
            "object_fit": null,
            "object_position": null,
            "order": null,
            "overflow": null,
            "overflow_x": null,
            "overflow_y": null,
            "padding": null,
            "right": null,
            "top": null,
            "visibility": null,
            "width": null
          }
        }
      }
    }
  },
  "nbformat": 4,
  "nbformat_minor": 0
}